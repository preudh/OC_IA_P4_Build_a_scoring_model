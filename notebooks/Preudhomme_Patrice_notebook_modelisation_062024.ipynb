{
 "cells": [
  {
   "metadata": {},
   "cell_type": "markdown",
   "source": "1. Load the Preprocessed Data",
   "id": "458083ce2249405a"
  },
  {
   "metadata": {},
   "cell_type": "code",
   "outputs": [],
   "execution_count": null,
   "source": [
    "import numpy as np\n",
    "\n",
    "# Load the dataset from the NPZ file\n",
    "data_path = 'dataapp_domain_train_test_sets.npz'\n",
    "data = np.load(data_path, allow_pickle=True)\n",
    "\n",
    "# Extract the training and testing sets\n",
    "X_train = data['X_train']\n",
    "X_test = data['X_test']\n",
    "y_train = data['y_train']\n",
    "y_test = data['y_test']"
   ],
   "id": "bd48a92e09961fda"
  },
  {
   "metadata": {},
   "cell_type": "markdown",
   "source": "2.Hyperparameter Tuning via GridSearchCV and Imbalanced-learn Pipeline",
   "id": "cbe789d731d07bcf"
  },
  {
   "metadata": {},
   "cell_type": "code",
   "outputs": [],
   "execution_count": null,
   "source": [
    "from sklearn.ensemble import RandomForestClassifier\n",
    "from sklearn.linear_model import RidgeClassifier\n",
    "from sklearn.model_selection import GridSearchCV\n",
    "from imblearn.pipeline import Pipeline\n",
    "from imblearn.over_sampling import SMOTE\n",
    "from imblearn.under_sampling import RandomUnderSampler\n",
    "\n",
    "# Define the resampling techniques\n",
    "over_sampler = SMOTE(random_state=42)\n",
    "under_sampler = RandomUnderSampler(random_state=42)\n",
    "\n",
    "# Define the models\n",
    "rf = RandomForestClassifier(random_state=42)\n",
    "ridge = RidgeClassifier()\n",
    "\n",
    "# Define the parameter grids for GridSearchCV\n",
    "param_grid_rf = {\n",
    "    'classifier__n_estimators': [100, 200],\n",
    "    'classifier__max_depth': [10, 20],\n",
    "    'classifier__class_weight': [None, 'balanced']\n",
    "}\n",
    "\n",
    "param_grid_ridge = {\n",
    "    'classifier__alpha': [1.0, 0.1, 0.01],\n",
    "    'classifier__class_weight': [None, 'balanced']\n",
    "}\n",
    "\n",
    "# Define pipelines\n",
    "pipeline_rf_over = Pipeline([\n",
    "    ('oversample', over_sampler),\n",
    "    ('classifier', rf)\n",
    "])\n",
    "\n",
    "pipeline_rf_under = Pipeline([\n",
    "    ('undersample', under_sampler),\n",
    "    ('classifier', rf)\n",
    "])\n",
    "\n",
    "pipeline_ridge_over = Pipeline([\n",
    "    ('oversample', over_sampler),\n",
    "    ('classifier', ridge)\n",
    "])\n",
    "\n",
    "pipeline_ridge_under = Pipeline([\n",
    "    ('undersample', under_sampler),\n",
    "    ('classifier', ridge)\n",
    "])\n",
    "\n",
    "# Perform GridSearchCV for each pipeline\n",
    "grids = [\n",
    "    (pipeline_rf_over, param_grid_rf, 'Random Forest with Over-sampling'),\n",
    "    (pipeline_rf_under, param_grid_rf, 'Random Forest with Under-sampling'),\n",
    "    (pipeline_ridge_over, param_grid_ridge, 'Ridge with Over-sampling'),\n",
    "    (pipeline_ridge_under, param_grid_ridge, 'Ridge with Under-sampling')\n",
    "]\n",
    "\n",
    "best_estimators = {}\n",
    "\n",
    "for pipeline, param_grid, name in grids:\n",
    "    grid_search = GridSearchCV(estimator=pipeline, param_grid=param_grid, scoring='roc_auc', cv=5, n_jobs=-1)\n",
    "    grid_search.fit(X_train, y_train)\n",
    "    best_estimators[name] = grid_search.best_estimator_\n",
    "    print(f\"Best parameters for {name}: {grid_search.best_params_}\")\n",
    "    print(f\"Best ROC AUC for {name}: {grid_search.best_score_}\")\n"
   ],
   "id": "60e72a82bf47abaa"
  },
  {
   "metadata": {},
   "cell_type": "markdown",
   "source": "",
   "id": "2a3892f08444ed43"
  },
  {
   "metadata": {},
   "cell_type": "markdown",
   "source": "3.Evaluate the Best Model",
   "id": "97552594f71e4aeb"
  },
  {
   "metadata": {},
   "cell_type": "code",
   "outputs": [],
   "execution_count": null,
   "source": [
    "from sklearn.metrics import confusion_matrix, roc_auc_score, classification_report\n",
    "\n",
    "# Select the best model (for example purposes, choosing the best model based on GridSearchCV results)\n",
    "best_model_name = max(best_estimators, key=lambda name: best_estimators[name].score(X_test, y_test))\n",
    "best_model = best_estimators[best_model_name]\n",
    "\n",
    "# Predict on the test set\n",
    "y_pred = best_model.predict(X_test)\n",
    "\n",
    "# Compute confusion matrix\n",
    "conf_matrix = confusion_matrix(y_test, y_pred)\n",
    "print(\"Confusion Matrix:\")\n",
    "print(conf_matrix)\n",
    "\n",
    "# Compute ROC AUC score\n",
    "roc_auc = roc_auc_score(y_test, y_pred)\n",
    "print(f\"ROC AUC: {roc_auc}\")\n",
    "\n",
    "# Ensure ROC AUC < 0.82\n",
    "if roc_auc >= 0.82:\n",
    "    print(\"Warning: ROC AUC score is greater than or equal to 0.82. Model might be overfitting.\")\n",
    "\n",
    "# Print classification report\n",
    "print(\"Classification Report:\")\n",
    "print(classification_report(y_test, y_pred))\n"
   ],
   "id": "858811dfb9290b86"
  },
  {
   "metadata": {},
   "cell_type": "markdown",
   "source": "4.Feature Importance",
   "id": "898a240d06f7cede"
  },
  {
   "metadata": {},
   "cell_type": "markdown",
   "source": "4.1 Global Feature Importance Using SHAP",
   "id": "b834e8e4483a1c8e"
  },
  {
   "metadata": {},
   "cell_type": "code",
   "outputs": [],
   "execution_count": null,
   "source": [
    "import shap\n",
    "\n",
    "# Fit the explainer on the training data\n",
    "explainer = shap.Explainer(best_model['classifier'], X_train)\n",
    "shap_values = explainer(X_test)\n",
    "\n",
    "# Global feature importance\n",
    "shap.summary_plot(shap_values, X_test)\n"
   ],
   "id": "f1ce1736161f6514"
  },
  {
   "metadata": {},
   "cell_type": "markdown",
   "source": "4.2 Local Feature Importance Using SHAP",
   "id": "f06f82d571f049c7"
  },
  {
   "metadata": {},
   "cell_type": "code",
   "outputs": [],
   "execution_count": null,
   "source": [
    "# Local explanation for a single instance\n",
    "shap.initjs()\n",
    "shap.force_plot(explainer.expected_value, shap_values[0,:], X_test[0,:])\n"
   ],
   "id": "2a6e4f12273dd616"
  }
 ],
 "metadata": {
  "kernelspec": {
   "display_name": "Python 3",
   "language": "python",
   "name": "python3"
  },
  "language_info": {
   "codemirror_mode": {
    "name": "ipython",
    "version": 2
   },
   "file_extension": ".py",
   "mimetype": "text/x-python",
   "name": "python",
   "nbconvert_exporter": "python",
   "pygments_lexer": "ipython2",
   "version": "2.7.6"
  }
 },
 "nbformat": 4,
 "nbformat_minor": 5
}
