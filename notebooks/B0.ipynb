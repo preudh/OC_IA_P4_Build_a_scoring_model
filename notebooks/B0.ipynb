{
 "cells": [
  {
   "metadata": {},
   "cell_type": "markdown",
   "source": "",
   "id": "795db174a3eae5d4"
  },
  {
   "metadata": {},
   "cell_type": "markdown",
   "source": "# Build a scoring model - OpenClassrooms Project P4 - Engineer IA",
   "id": "1b223dab8c5ec79a"
  },
  {
   "metadata": {},
   "cell_type": "markdown",
   "source": [
    "### To Grant Consumer Loans\n",
    "\n",
    "To grant consumer loans, banks use several relevant variables to assess the risk of customer default. Here is a list of important variables and an example of a calculation commonly used in banks for this type of financing, considering regulatory constraints such as the usury rate and maximum credit limits.\n",
    "\n",
    "#### Relevant Variables for Consumer Credit Scoring\n",
    "\n",
    "**Socio-Demographic Variables:**\n",
    "- **SK_ID_CURR:** Unique identifier of the client.\n",
    "- **CODE_GENDER:** Gender of the client.\n",
    "- **DAYS_BIRTH:** Age of the client in days (negative).\n",
    "\n",
    "**Financial Variables:**\n",
    "- **AMT_INCOME_TOTAL:** Total income of the client.\n",
    "- **AMT_CREDIT:** Amount of credit requested.\n",
    "- **AMT_ANNUITY:** Credit annuity.\n",
    "- **AMT_GOODS_PRICE:** Price of goods for which the credit is requested.\n",
    "- **NAME_INCOME_TYPE:** Type of income of the client.\n",
    "- **NAME_FAMILY_STATUS:** Family status of the client.\n",
    "- **NAME_HOUSING_TYPE:** Type of housing of the client.\n",
    "\n",
    "**Stability Variables:**\n",
    "- **DAYS_EMPLOYED:** Number of days the client has been employed (negative, 0 if unemployed).\n",
    "- **DAYS_REGISTRATION:** Number of days since the client's registration.\n",
    "- **OCCUPATION_TYPE:** Type of employment of the client.\n",
    "\n",
    "**Behavioral Variables:**\n",
    "- **CNT_CHILDREN:** Number of dependents of the client.\n",
    "- **CNT_FAM_MEMBERS:** Number of family members of the client.\n",
    "- **FLAG_OWN_CAR:** Binary indicator if the client owns a car.\n",
    "- **FLAG_OWN_REALTY:** Binary indicator if the client owns real estate.\n",
    "\n",
    "**External Scores:**\n",
    "- **EXT_SOURCE_1, EXT_SOURCE_2, EXT_SOURCE_3:** External scores from various sources.\n",
    "\n",
    "#### Examples of other Ratios and Calculations Used\n",
    "\n",
    "**The relevant business information is:**\n",
    "- Amount borrowed / Price of the purchased good: `AMT_CREDIT / AMT_GOODS_PRICE`\n",
    "- Amount of annuities / Amount borrowed: `AMT_ANNUITY / AMT_CREDIT`\n",
    "- Amount of annuities / Annual income: `AMT_ANNUITY / AMT_INCOME_TOTAL`\n",
    "- Employment duration / Age: `DAYS_EMPLOYED / DAYS_BIRTH`\n",
    "\n",
    "\n",
    "#### Regulatory Requirements in France\n",
    "\n",
    "**Usury Rate:**\n",
    "Banks in France must ensure that the proposed interest rate does not exceed the usury rate set by the Banque de France. The usury rate is calculated quarterly and is the maximum APR (annual percentage rate) allowed for loans, which includes the base interest rate, fees, and insurance costs. If the APR exceeds the usury rate, the loan is considered illegal and is subject to severe penalties, including fines and imprisonment.\n",
    "\n",
    "**Credit Ceilings:**\n",
    "Banks must respect maximum credit limits based on the type of credit and the client's profile. These limits are set to ensure that clients do not become over-indebted and to maintain financial stability\n",
    "\n",
    "**Repayment Capacity:**\n",
    "Banks must assess the client's repayment capacity based on their income and expenses. The general rule is that the client's debt-to-income ratio should not exceed 33%, although this can be higher in exceptional cases. Loans should not be granted if the data shows that the client cannot reasonably repay the loan without financial hardship.\n",
    "### Current Usury Rate as of June 2024\n",
    "\n",
    "As of June 2024, the usury rates for consumer loans are set quarterly by the Banque de France. The current usury rate for consumer loans depends on the amount borrowed and the loan duration. For precise rates, you can refer to the latest publication by the Banque de France or consult their [official website](https://www.banque-france.fr).\n",
    "\n",
    "While the specific variables mentioned above do not directly provide the usury rate, they are essential in calculating the APR (Annual Percentage Rate) for loans, which must comply with the usury rate. The APR includes the nominal interest rate, various fees, and insurance costs, and must be compared against the usury threshold to ensure compliance.\n",
    "\n",
    "### Calculating the Interest Rate (APR) of a Loan\n",
    "\n",
    "From the provided variables, it is not possible to directly determine the interest rate of the loan. The listed variables are primarily socio-demographic, financial, and behavioral characteristics of the clients, as well as stability indicators and external scores. To calculate the interest rate of a loan, we need specific information about the terms of the loan itself, such as the total amount to be repaid, associated fees, and the duration of the loan.\n",
    "\n",
    "**<span style=\"color:red;\">This information is missing, and in a professional context, the absence of this variable would not allow for futur accurate loan scoring.</span>**\n"
   ],
   "id": "99e079b57d0a4c8d"
  },
  {
   "metadata": {},
   "cell_type": "markdown",
   "source": "## Load Data that will be used for the project are issued from Kaggle and are available [Home Credit Default Risk - Can you predict how capable each applicant is of repaying a loan?]  ",
   "id": "1396ae37d1d8aba3"
  },
  {
   "metadata": {},
   "cell_type": "markdown",
   "source": [
    "### Data Description : \n",
    "Data are from several sources and are related to the loan application of clients. The data are divided into several tables, each containing information about the client, the loan, and the client's previous credit history. The main table is the application_train.csv file, which contains the following variables:\n",
    "- application_train.csv: the main table containing information about the client's loan application.\n",
    "- SK_ID_CURR: Unique identifier of the client which will be used to link the tables."
   ],
   "id": "2a0bfdb9e377838f"
  },
  {
   "metadata": {},
   "cell_type": "markdown",
   "source": "![Home Credit data relations](https://storage.googleapis.com/kaggle-media/competitions/home-credit/home_credit.png)",
   "id": "1a8ef085c99c6a0"
  },
  {
   "metadata": {},
   "cell_type": "markdown",
   "source": "",
   "id": "c6d8c4902895e7dc"
  },
  {
   "metadata": {},
   "cell_type": "code",
   "outputs": [],
   "execution_count": null,
   "source": "",
   "id": "d3223b815d1cd97b"
  }
 ],
 "metadata": {
  "kernelspec": {
   "display_name": "Python 3",
   "language": "python",
   "name": "python3"
  },
  "language_info": {
   "codemirror_mode": {
    "name": "ipython",
    "version": 2
   },
   "file_extension": ".py",
   "mimetype": "text/x-python",
   "name": "python",
   "nbconvert_exporter": "python",
   "pygments_lexer": "ipython2",
   "version": "2.7.6"
  }
 },
 "nbformat": 4,
 "nbformat_minor": 5
}
